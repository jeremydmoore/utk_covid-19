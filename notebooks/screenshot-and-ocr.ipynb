{
 "cells": [
  {
   "cell_type": "markdown",
   "metadata": {},
   "source": [
    "# Capture data from UTK's COVID-19 dashboard\n",
    "\n",
    "I initially tried to scrape the data from UTK's COVID_19 dashboard and parse it with BeautifulSoup, but the data I want is buried in nested table tags that looked like a pain. Well, to cut a long story short, [my hammer](https://en.wiktionary.org/wiki/if_all_you_have_is_a_hammer,_everything_looks_like_a_nail) is computer vision and this website looks a whole lot like a nail to me.\n",
    "\n",
    "UTK's COVID-19 dashboard data is currently located at https://veoci.com/veoci/p/form/4jmds5x4jj4j#tab=entryForm\n",
    "\n",
    "Currently, I just want to make sure I am capturing the data, for which visualizations can be created later.\n",
    "\n",
    "The steps are:\n",
    "\n",
    "1. get screenshot of page in binary with Selenium\n",
    "2. convert binary data to grayscale PIL.image\n",
    "3. OCR image\n",
    "4. load old OCR text\n",
    "5. compare new OCR text with old OCR text\n",
    "6. If OCR text changed, then save screenshot with date and update old OCR text"
   ]
  },
  {
   "cell_type": "code",
   "execution_count": 1,
   "metadata": {},
   "outputs": [],
   "source": [
    "# import standard library\n",
    "from datetime import datetime\n",
    "from io import BytesIO\n",
    "from pathlib import Path\n",
    "from shutil import copy\n",
    "\n",
    "# import 3rd party\n",
    "from PIL import Image\n",
    "from pytesseract import image_to_string\n",
    "from selenium import webdriver"
   ]
  },
  {
   "cell_type": "code",
   "execution_count": 2,
   "metadata": {},
   "outputs": [],
   "source": [
    "# variables\n",
    "URL = 'https://veoci.com/veoci/p/form/4jmds5x4jj4j#tab=entryForm'\n",
    "data_dir_path = Path('../data')\n",
    "last_ocr_text_path = data_dir_path.joinpath('last_ocr.txt')"
   ]
  },
  {
   "cell_type": "code",
   "execution_count": 3,
   "metadata": {},
   "outputs": [],
   "source": [
    "# functions\n",
    "def get_element_screenshot(URL = 'https://veoci.com/veoci/p/form/4jmds5x4jj4j#tab=entryForm',\n",
    "                           element = '/html/body/div[2]/div[2]',\n",
    "                           window_width = 1000,\n",
    "                           window_height = 1500\n",
    "                          ):\n",
    "    with webdriver.Safari() as driver:\n",
    "        driver.get(URL)\n",
    "        # default window size works on 5k 27\" iMac\n",
    "        driver.set_window_size(window_width, window_height)\n",
    "        # default element gets all contents for COVID data\n",
    "        element = driver.find_element_by_xpath(element)\n",
    "        screenshot = element.screenshot_as_png\n",
    "    return screenshot\n",
    "\n",
    "def screenshot_to_image(screenshot):\n",
    "    image_bytes = BytesIO(screenshot)\n",
    "    image = Image.open(image_bytes)\n",
    "    return image\n",
    "\n",
    "def image_to_covid_text(image):\n",
    "    gray_image = image.convert('L')\n",
    "    text = image_to_string(gray_image)\n",
    "    covid_text = text.split('Learn more about what happens with a COVID-19 case is reported.')[1].split('View Acknowledgement')[0].strip()\n",
    "    return covid_text\n",
    "\n",
    "def compare_ocr_text(covid_text):\n",
    "    \n",
    "    with open(last_ocr_text_path, 'r') as text_file:\n",
    "        last_ocr_text = text_file.read()\n",
    "    # print(last_ocr_text)\n",
    "    \n",
    "    if covid_text != last_ocr_text:  # then we have new data!\n",
    "        \n",
    "        # set date_stub now so it's consistent for filenames\n",
    "        date_stub = datetime.now().strftime(\"%Y-%m-%d_%H%M\")\n",
    "        \n",
    "        # save screenshot\n",
    "        image_filename = f'{date_stub}_screenshot.png'\n",
    "        image_path = data_dir_path.joinpath(image_filename)\n",
    "        image.save(image_path)\n",
    "        print(f'Image saved at {image_path}\\n')\n",
    "        \n",
    "        # save covid_text\n",
    "        text_filename = f'{date_stub}_covid-text.txt'\n",
    "        text_path = data_dir_path.joinpath(text_filename)\n",
    "        with open(text_path, 'w') as text_file:\n",
    "            for line in covid_text:\n",
    "                text_file.write(line)\n",
    "        \n",
    "        # overwrite \"last_ocr.txt\"\n",
    "        copy(text_path, last_ocr_text_path)\n",
    "        print(f'Updated \"last_ocr.txt\" with:\\n{79*\"*\"}\\n')\n",
    "        print(covid_text)\n",
    "    else:\n",
    "        print(f'No change in last_ocr.txt')"
   ]
  },
  {
   "cell_type": "code",
   "execution_count": 4,
   "metadata": {},
   "outputs": [
    {
     "name": "stdout",
     "output_type": "stream",
     "text": [
      "Image saved at ../data/2020-08-12_0920_screenshot.png\n",
      "\n",
      "Updated \"last_ocr.txt\" with:\n",
      "*******************************************************************************\n",
      "\n",
      "Building Room Reason Reopen Date\n",
      "\n",
      "Alumni Memorial 33 Symptomatic and Self-lsolating August 12, 2020\n",
      "Student Union 368 Symptomatic and Self-lsolating August 15, 2020\n",
      "Austin Peay B104, 109, 113 and 125 Symptomatic and Self Isolating August 12, 2020\n",
      "\n",
      "Active COVID-19 Cases\n",
      "\n",
      "Students 18\n",
      "Faculty 4\n",
      "Staff 4\n",
      "\n",
      "Cumulative since August 8, 2020: 4\n",
      "Cumulative June 8, 2020 thru August 8, 2020: 113\n",
      "\n",
      "Updated: 8/12/20 0752 tl\n"
     ]
    }
   ],
   "source": [
    "# gather data\n",
    "screenshot = get_element_screenshot()\n",
    "\n",
    "image = screenshot_to_image(screenshot)\n",
    "\n",
    "covid_text = image_to_covid_text(image)\n",
    "\n",
    "compare_ocr_text(covid_text)"
   ]
  },
  {
   "cell_type": "code",
   "execution_count": null,
   "metadata": {},
   "outputs": [],
   "source": []
  }
 ],
 "metadata": {
  "kernelspec": {
   "display_name": "Python 3",
   "language": "python",
   "name": "python3"
  },
  "language_info": {
   "codemirror_mode": {
    "name": "ipython",
    "version": 3
   },
   "file_extension": ".py",
   "mimetype": "text/x-python",
   "name": "python",
   "nbconvert_exporter": "python",
   "pygments_lexer": "ipython3",
   "version": "3.7.7"
  }
 },
 "nbformat": 4,
 "nbformat_minor": 4
}
