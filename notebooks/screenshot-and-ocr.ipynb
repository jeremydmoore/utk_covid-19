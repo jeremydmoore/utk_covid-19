{
 "cells": [
  {
   "cell_type": "markdown",
   "metadata": {},
   "source": [
    "# Capture data from UTK's COVID-19 dashboard\n",
    "\n",
    "I initially tried to scrape the data from UTK's COVID_19 dashboard and parse it with BeautifulSoup, but the data I want is buried in nested table tags that looked like a pain. Well, to cut a long story short, [my hammer](https://en.wiktionary.org/wiki/if_all_you_have_is_a_hammer,_everything_looks_like_a_nail) is computer vision and this website looks a whole lot like a nail to me.\n",
    "\n",
    "UTK's COVID-19 dashboard data is currently located at https://veoci.com/veoci/p/form/4jmds5x4jj4j#tab=entryForm\n",
    "\n",
    "Currently, I just want to make sure I am capturing the data, for which visualizations can be created later.\n",
    "\n",
    "The steps are:\n",
    "\n",
    "1. get screenshot of page in binary with Selenium\n",
    "2. convert binary data to grayscale PIL.image\n",
    "3. OCR image\n",
    "4. load old OCR text\n",
    "5. compare new OCR text with old OCR text\n",
    "6. If OCR text changed, then save screenshot with date and update old OCR text"
   ]
  },
  {
   "cell_type": "code",
   "execution_count": 1,
   "metadata": {},
   "outputs": [],
   "source": [
    "# import standard library\n",
    "from datetime import datetime\n",
    "from io import BytesIO\n",
    "from pathlib import Path\n",
    "from shutil import copy\n",
    "\n",
    "# import 3rd party\n",
    "from PIL import Image\n",
    "from pytesseract import image_to_string\n",
    "from selenium import webdriver"
   ]
  },
  {
   "cell_type": "code",
   "execution_count": 2,
   "metadata": {},
   "outputs": [],
   "source": [
    "# variables\n",
    "URL = 'https://veoci.com/veoci/p/form/4jmds5x4jj4j#tab=entryForm'\n",
    "data_dir_path = Path('../data')\n",
    "last_ocr_text_path = data_dir_path.joinpath('last_ocr.txt')"
   ]
  },
  {
   "cell_type": "code",
   "execution_count": 3,
   "metadata": {},
   "outputs": [],
   "source": [
    "# functions\n",
    "def get_element_screenshot(URL = 'https://veoci.com/veoci/p/form/4jmds5x4jj4j#tab=entryForm',\n",
    "                           element = '/html/body/div[2]/div[2]',\n",
    "                           window_width = 1000,\n",
    "                           window_height = 1500\n",
    "                          ):\n",
    "    with webdriver.Safari() as driver:\n",
    "        driver.get(URL)\n",
    "        # default window size works on 5k 27\" iMac\n",
    "        driver.set_window_size(window_width, window_height)\n",
    "        # default element gets all contents for COVID data\n",
    "        element = driver.find_element_by_xpath(element)\n",
    "        screenshot = element.screenshot_as_png\n",
    "    return screenshot\n",
    "\n",
    "def screenshot_to_image(screenshot):\n",
    "    image_bytes = BytesIO(screenshot)\n",
    "    image = Image.open(image_bytes)\n",
    "    return image\n",
    "\n",
    "def image_to_covid_text(image):\n",
    "    gray_image = image.convert('L')\n",
    "    text = image_to_string(gray_image)\n",
    "    covid_text = text.split('Learn more about what happens with a COVID-19 case is reported.')[1].split('View Acknowledgement')[0].strip()\n",
    "    return covid_text\n",
    "\n",
    "def compare_ocr_text(covid_text):\n",
    "    \n",
    "    with open(last_ocr_text_path, 'r') as text_file:\n",
    "        last_ocr_text = text_file.read()\n",
    "    # print(last_ocr_text)\n",
    "    \n",
    "    if covid_text != last_ocr_text:  # then we have new data!\n",
    "        \n",
    "        # set date_stub now so it's consistent for filenames\n",
    "        date_stub = datetime.now().strftime(\"%Y-%m-%d_%H%M\")\n",
    "        \n",
    "        # save screenshot\n",
    "        image_filename = f'{date_stub}_screenshot.png'\n",
    "        image_path = data_dir_path.joinpath(image_filename)\n",
    "        image.save(image_path)\n",
    "        print(f'Image saved at {image_path}\\n')\n",
    "        \n",
    "        # save covid_text\n",
    "        text_filename = f'{date_stub}_covid-text.txt'\n",
    "        text_path = data_dir_path.joinpath(text_filename)\n",
    "        with open(text_path, 'w') as text_file:\n",
    "            for line in covid_text:\n",
    "                text_file.write(line)\n",
    "        \n",
    "        # overwrite \"last_ocr.txt\"\n",
    "        copy(text_path, last_ocr_text_path)\n",
    "        print(f'Updated \"last_ocr.txt\" with:\\n{79*\"*\"}\\n')\n",
    "        print(covid_text)\n",
    "    else:\n",
    "        print(f'No change in last_ocr.txt')"
   ]
  },
  {
   "cell_type": "code",
   "execution_count": 4,
   "metadata": {},
   "outputs": [
    {
     "ename": "IndexError",
     "evalue": "list index out of range",
     "output_type": "error",
     "traceback": [
      "\u001b[0;31m---------------------------------------------------------------------------\u001b[0m",
      "\u001b[0;31mIndexError\u001b[0m                                Traceback (most recent call last)",
      "\u001b[0;32m<ipython-input-4-8b98eab32f20>\u001b[0m in \u001b[0;36m<module>\u001b[0;34m\u001b[0m\n\u001b[1;32m      4\u001b[0m \u001b[0mimage\u001b[0m \u001b[0;34m=\u001b[0m \u001b[0mscreenshot_to_image\u001b[0m\u001b[0;34m(\u001b[0m\u001b[0mscreenshot\u001b[0m\u001b[0;34m)\u001b[0m\u001b[0;34m\u001b[0m\u001b[0;34m\u001b[0m\u001b[0m\n\u001b[1;32m      5\u001b[0m \u001b[0;34m\u001b[0m\u001b[0m\n\u001b[0;32m----> 6\u001b[0;31m \u001b[0mcovid_text\u001b[0m \u001b[0;34m=\u001b[0m \u001b[0mimage_to_covid_text\u001b[0m\u001b[0;34m(\u001b[0m\u001b[0mimage\u001b[0m\u001b[0;34m)\u001b[0m\u001b[0;34m\u001b[0m\u001b[0;34m\u001b[0m\u001b[0m\n\u001b[0m\u001b[1;32m      7\u001b[0m \u001b[0;34m\u001b[0m\u001b[0m\n\u001b[1;32m      8\u001b[0m \u001b[0mcompare_ocr_text\u001b[0m\u001b[0;34m(\u001b[0m\u001b[0mcovid_text\u001b[0m\u001b[0;34m)\u001b[0m\u001b[0;34m\u001b[0m\u001b[0;34m\u001b[0m\u001b[0m\n",
      "\u001b[0;32m<ipython-input-3-f2cbc5b5ceb5>\u001b[0m in \u001b[0;36mimage_to_covid_text\u001b[0;34m(image)\u001b[0m\n\u001b[1;32m     22\u001b[0m     \u001b[0mgray_image\u001b[0m \u001b[0;34m=\u001b[0m \u001b[0mimage\u001b[0m\u001b[0;34m.\u001b[0m\u001b[0mconvert\u001b[0m\u001b[0;34m(\u001b[0m\u001b[0;34m'L'\u001b[0m\u001b[0;34m)\u001b[0m\u001b[0;34m\u001b[0m\u001b[0;34m\u001b[0m\u001b[0m\n\u001b[1;32m     23\u001b[0m     \u001b[0mtext\u001b[0m \u001b[0;34m=\u001b[0m \u001b[0mimage_to_string\u001b[0m\u001b[0;34m(\u001b[0m\u001b[0mgray_image\u001b[0m\u001b[0;34m)\u001b[0m\u001b[0;34m\u001b[0m\u001b[0;34m\u001b[0m\u001b[0m\n\u001b[0;32m---> 24\u001b[0;31m     \u001b[0mcovid_text\u001b[0m \u001b[0;34m=\u001b[0m \u001b[0mtext\u001b[0m\u001b[0;34m.\u001b[0m\u001b[0msplit\u001b[0m\u001b[0;34m(\u001b[0m\u001b[0;34m'Learn more about what happens with a COVID-19 case is reported.'\u001b[0m\u001b[0;34m)\u001b[0m\u001b[0;34m[\u001b[0m\u001b[0;36m1\u001b[0m\u001b[0;34m]\u001b[0m\u001b[0;34m.\u001b[0m\u001b[0msplit\u001b[0m\u001b[0;34m(\u001b[0m\u001b[0;34m'View Acknowledgement'\u001b[0m\u001b[0;34m)\u001b[0m\u001b[0;34m[\u001b[0m\u001b[0;36m0\u001b[0m\u001b[0;34m]\u001b[0m\u001b[0;34m.\u001b[0m\u001b[0mstrip\u001b[0m\u001b[0;34m(\u001b[0m\u001b[0;34m)\u001b[0m\u001b[0;34m\u001b[0m\u001b[0;34m\u001b[0m\u001b[0m\n\u001b[0m\u001b[1;32m     25\u001b[0m     \u001b[0;32mreturn\u001b[0m \u001b[0mcovid_text\u001b[0m\u001b[0;34m\u001b[0m\u001b[0;34m\u001b[0m\u001b[0m\n\u001b[1;32m     26\u001b[0m \u001b[0;34m\u001b[0m\u001b[0m\n",
      "\u001b[0;31mIndexError\u001b[0m: list index out of range"
     ]
    }
   ],
   "source": [
    "# gather data\n",
    "screenshot = get_element_screenshot()\n",
    "\n",
    "image = screenshot_to_image(screenshot)\n",
    "\n",
    "covid_text = image_to_covid_text(image)\n",
    "\n",
    "compare_ocr_text(covid_text)"
   ]
  },
  {
   "cell_type": "code",
   "execution_count": null,
   "metadata": {},
   "outputs": [],
   "source": []
  }
 ],
 "metadata": {
  "kernelspec": {
   "display_name": "Python 3",
   "language": "python",
   "name": "python3"
  },
  "language_info": {
   "codemirror_mode": {
    "name": "ipython",
    "version": 3
   },
   "file_extension": ".py",
   "mimetype": "text/x-python",
   "name": "python",
   "nbconvert_exporter": "python",
   "pygments_lexer": "ipython3",
   "version": "3.7.7"
  }
 },
 "nbformat": 4,
 "nbformat_minor": 4
}
