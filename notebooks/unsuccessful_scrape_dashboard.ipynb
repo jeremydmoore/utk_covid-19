{
 "cells": [
  {
   "cell_type": "markdown",
   "metadata": {},
   "source": [
    "# Scrape the UTK COVID-19 dashboard data\n",
    "\n",
    "This notebook is to scrape UTK's COVID-19 dashboard data, currently located at https://veoci.com/veoci/p/form/4jmds5x4jj4j#tab=entryForm"
   ]
  },
  {
   "cell_type": "code",
   "execution_count": 1,
   "metadata": {},
   "outputs": [],
   "source": [
    "from bs4 import BeautifulSoup\n",
    "import requests"
   ]
  },
  {
   "cell_type": "code",
   "execution_count": 2,
   "metadata": {},
   "outputs": [],
   "source": [
    "URL = 'https://veoci.com/veoci/p/form/4jmds5x4jj4j#tab=entryForm'\n",
    "response = requests.get(URL)\n",
    "\n",
    "soup = BeautifulSoup(response.content, 'html5lib')"
   ]
  },
  {
   "cell_type": "markdown",
   "metadata": {},
   "source": [
    "### Following quick start direction in Beautiful Soup documentation\n",
    "\n",
    "https://beautiful-soup-4.readthedocs.io/en/latest/"
   ]
  },
  {
   "cell_type": "code",
   "execution_count": 3,
   "metadata": {},
   "outputs": [
    {
     "data": {
      "text/plain": [
       "<title> Dashboard for Temporary Space Closures - Veoci (Public Form)</title>"
      ]
     },
     "execution_count": 3,
     "metadata": {},
     "output_type": "execute_result"
    }
   ],
   "source": [
    "soup.title"
   ]
  },
  {
   "cell_type": "code",
   "execution_count": 4,
   "metadata": {},
   "outputs": [
    {
     "data": {
      "text/plain": [
       "'title'"
      ]
     },
     "execution_count": 4,
     "metadata": {},
     "output_type": "execute_result"
    }
   ],
   "source": [
    "soup.title.name"
   ]
  },
  {
   "cell_type": "code",
   "execution_count": 5,
   "metadata": {},
   "outputs": [
    {
     "data": {
      "text/plain": [
       "' Dashboard for Temporary Space Closures - Veoci (Public Form)'"
      ]
     },
     "execution_count": 5,
     "metadata": {},
     "output_type": "execute_result"
    }
   ],
   "source": [
    "soup.title.string"
   ]
  },
  {
   "cell_type": "code",
   "execution_count": 6,
   "metadata": {},
   "outputs": [
    {
     "data": {
      "text/plain": [
       "'head'"
      ]
     },
     "execution_count": 6,
     "metadata": {},
     "output_type": "execute_result"
    }
   ],
   "source": [
    "soup.title.parent.name"
   ]
  },
  {
   "cell_type": "code",
   "execution_count": 7,
   "metadata": {},
   "outputs": [
    {
     "data": {
      "text/plain": [
       "<p>Desktop notifications let you know when you have a new message or alert. When you enable these notifications, you will see a pop-up when new messages arrive. </p>"
      ]
     },
     "execution_count": 7,
     "metadata": {},
     "output_type": "execute_result"
    }
   ],
   "source": [
    "soup.p"
   ]
  },
  {
   "cell_type": "code",
   "execution_count": 8,
   "metadata": {},
   "outputs": [
    {
     "data": {
      "text/plain": [
       "<a class=\"skip-content-link\" href=\"#mainContent\" target=\"_self\">Skip masthead links</a>"
      ]
     },
     "execution_count": 8,
     "metadata": {},
     "output_type": "execute_result"
    }
   ],
   "source": [
    "soup.a"
   ]
  },
  {
   "cell_type": "code",
   "execution_count": 9,
   "metadata": {},
   "outputs": [
    {
     "data": {
      "text/plain": [
       "[<a class=\"skip-content-link\" href=\"#mainContent\" target=\"_self\">Skip masthead links</a>,\n",
       " <a class=\"dismissWarning\" href=\"#\" style=\"font-size:12px;\">Close</a>,\n",
       " <a class=\"dismissWarning\" href=\"#\" style=\"font-size:12px;\">Close</a>,\n",
       " <a class=\"dismissWarning\" href=\"#\" style=\"font-size:12px;margin-top: 10px;display: inline-block;\">Close</a>,\n",
       " <a class=\"dismissWarning\" href=\"#\" style=\"font-size:12px;\">Close</a>,\n",
       " <a href=\"/veoci\" target=\"_top\" title=\"Logout of Veoci\">Sign Out</a>,\n",
       " <a class=\"dismissWarning\" href=\"#\" style=\"font-size:12px;\">Close</a>,\n",
       " <a id=\"header_home_link\" style=\"float:left;\"></a>,\n",
       " <a class=\"masthead-login-link\" href=\"#\" style=\"color: white\">Sign In</a>,\n",
       " <a href=\"https://veoci.com/legal/privacy-policy\" title=\"Privacy Policy\">Privacy Policy</a>,\n",
       " <a href=\"https://veoci.com/legal/terms-and-conditions\" title=\"Terms &amp; Conditions\">Terms &amp; Conditions</a>,\n",
       " <a class=\"white-login-link\" href=\"/privacy.html\" style=\"font-size:12px;\">Privacy Policy</a>,\n",
       " <a class=\"white-login-link\" href=\"/terms.html\" style=\"font-size:12px;\">Terms &amp; Conditions</a>,\n",
       " <a class=\"white-login-link\" href=\"/contact.html\" style=\"font-size:12px;\">Contact Us</a>,\n",
       " <a class=\"white-login-link\" href=\"http://www.veoci.com\" style=\"color:#333;\" target=\"_blank\" title=\"http://www.veoci.com\">© Veoci / Grey Wall Software, LLC  <img align=\"baseline\" border=\"0\" height=\"9\" src=\"https://static-s3.veoci.com/static/v-1d6fc15e/dist/images/logo_greywall_sm.gif\" width=\"19\"/></a>,\n",
       " <a href=\"#\" id=\"clear-thread-filter\">Show all</a>]"
      ]
     },
     "execution_count": 9,
     "metadata": {},
     "output_type": "execute_result"
    }
   ],
   "source": [
    "soup.find_all('a')"
   ]
  },
  {
   "cell_type": "code",
   "execution_count": 10,
   "metadata": {},
   "outputs": [
    {
     "data": {
      "text/plain": [
       "2"
      ]
     },
     "execution_count": 10,
     "metadata": {},
     "output_type": "execute_result"
    }
   ],
   "source": [
    "len(soup.contents)"
   ]
  },
  {
   "cell_type": "code",
   "execution_count": 11,
   "metadata": {},
   "outputs": [],
   "source": [
    "soup.contents[0].name"
   ]
  },
  {
   "cell_type": "code",
   "execution_count": 12,
   "metadata": {},
   "outputs": [
    {
     "data": {
      "text/plain": [
       "'html'"
      ]
     },
     "execution_count": 12,
     "metadata": {},
     "output_type": "execute_result"
    }
   ],
   "source": [
    "soup.contents[1].name"
   ]
  },
  {
   "cell_type": "code",
   "execution_count": 13,
   "metadata": {},
   "outputs": [
    {
     "data": {
      "text/plain": [
       "2"
      ]
     },
     "execution_count": 13,
     "metadata": {},
     "output_type": "execute_result"
    }
   ],
   "source": [
    "len(list(soup.children))"
   ]
  },
  {
   "cell_type": "code",
   "execution_count": 14,
   "metadata": {},
   "outputs": [
    {
     "data": {
      "text/plain": [
       "467"
      ]
     },
     "execution_count": 14,
     "metadata": {},
     "output_type": "execute_result"
    }
   ],
   "source": [
    "len(list(soup.descendants))"
   ]
  },
  {
   "cell_type": "raw",
   "metadata": {},
   "source": [
    "print(soup.prettify(formatter=\"html5\"))"
   ]
  },
  {
   "cell_type": "code",
   "execution_count": 15,
   "metadata": {},
   "outputs": [
    {
     "data": {
      "text/plain": [
       "[]"
      ]
     },
     "execution_count": 15,
     "metadata": {},
     "output_type": "execute_result"
    }
   ],
   "source": [
    "soup.find_all('div', class_='field-data-wrapper.edit-mode')"
   ]
  },
  {
   "cell_type": "code",
   "execution_count": 16,
   "metadata": {},
   "outputs": [],
   "source": [
    "clean_this_up = soup.find('script', onerror=\"onScriptError(event)\", type='text/javascript')"
   ]
  },
  {
   "cell_type": "code",
   "execution_count": 17,
   "metadata": {},
   "outputs": [
    {
     "data": {
      "text/plain": [
       "bs4.element.Tag"
      ]
     },
     "execution_count": 17,
     "metadata": {},
     "output_type": "execute_result"
    }
   ],
   "source": [
    "type(clean_this_up)"
   ]
  },
  {
   "cell_type": "code",
   "execution_count": 18,
   "metadata": {},
   "outputs": [],
   "source": [
    "import pandas as pd"
   ]
  },
  {
   "cell_type": "code",
   "execution_count": 19,
   "metadata": {},
   "outputs": [],
   "source": [
    "from selenium import webdriver\n",
    "from PIL import Image"
   ]
  },
  {
   "cell_type": "code",
   "execution_count": 20,
   "metadata": {},
   "outputs": [],
   "source": [
    "with webdriver.Safari() as driver:\n",
    "    driver.get(URL)\n",
    "    driver.save_screenshot('screenshot.png')"
   ]
  },
  {
   "cell_type": "code",
   "execution_count": 21,
   "metadata": {},
   "outputs": [],
   "source": [
    "# xpath for entire image -- must be preceded by driver.maximize_window()\n",
    "# to be sure the data we want is displayed\n",
    "# /html/body/div[2]/div[2]\n",
    "# xpath for closed building table\n",
    "# //*[@id=\"entryWrapper\"]/div[3]/div[2]\n",
    "# xpath for Active Covid data\n",
    "# //*[@id=\"entryWrapper\"]/div[3]/div[3]"
   ]
  },
  {
   "cell_type": "code",
   "execution_count": 22,
   "metadata": {},
   "outputs": [],
   "source": [
    "with webdriver.Safari() as driver:\n",
    "    driver.get(URL)\n",
    "    driver.maximize_window()\n",
    "    driver.save_screenshot('screenshot.png')"
   ]
  },
  {
   "cell_type": "code",
   "execution_count": 23,
   "metadata": {},
   "outputs": [],
   "source": [
    "with webdriver.Safari() as driver:\n",
    "    driver.get(URL)\n",
    "    element = driver.find_element_by_xpath('//*[@id=\"entryWrapper\"]/div[3]/div[3]')\n",
    "    image_data = element.screenshot_as_png"
   ]
  },
  {
   "cell_type": "code",
   "execution_count": 24,
   "metadata": {},
   "outputs": [],
   "source": [
    "import io\n",
    "dataBytesIO = io.BytesIO(image_data)"
   ]
  },
  {
   "cell_type": "code",
   "execution_count": 25,
   "metadata": {},
   "outputs": [],
   "source": [
    "image = Image.open(dataBytesIO)"
   ]
  },
  {
   "cell_type": "code",
   "execution_count": 26,
   "metadata": {},
   "outputs": [],
   "source": [
    "image.show()"
   ]
  },
  {
   "cell_type": "code",
   "execution_count": 27,
   "metadata": {},
   "outputs": [],
   "source": [
    "import cv2\n",
    "import numpy as np"
   ]
  },
  {
   "cell_type": "code",
   "execution_count": 28,
   "metadata": {},
   "outputs": [],
   "source": [
    "image = cv2.cvtColor(np.array(image), cv2.COLOR_RGB2BGR)"
   ]
  },
  {
   "cell_type": "code",
   "execution_count": 29,
   "metadata": {},
   "outputs": [],
   "source": [
    "import pytesseract"
   ]
  },
  {
   "cell_type": "code",
   "execution_count": 30,
   "metadata": {},
   "outputs": [],
   "source": [
    "text = pytesseract.image_to_string(image)\n"
   ]
  },
  {
   "cell_type": "code",
   "execution_count": 31,
   "metadata": {},
   "outputs": [
    {
     "name": "stdout",
     "output_type": "stream",
     "text": [
      "Active COVID-19 Cases\n",
      "\n",
      "Students 18\n",
      "Faculty 4\n",
      "Staff 4\n",
      "\n",
      "Cumulative since August 9, 2020: 4\n",
      "Cumulative June 8, 2020 thru August 8, 2020: 113\n",
      "\n",
      "Updated: 8/11/20 1336 tl\n",
      "\f",
      "\n"
     ]
    }
   ],
   "source": [
    "print(text)"
   ]
  },
  {
   "cell_type": "code",
   "execution_count": 37,
   "metadata": {},
   "outputs": [],
   "source": [
    "driver = webdriver.Firefox()\n",
    "driver.close()"
   ]
  },
  {
   "cell_type": "code",
   "execution_count": 35,
   "metadata": {},
   "outputs": [],
   "source": [
    "!mv /Users/dlisla/Downloads/geckodriver /Users/dlisla/.virtualenvs/labtest1/bin/"
   ]
  },
  {
   "cell_type": "code",
   "execution_count": 51,
   "metadata": {},
   "outputs": [
    {
     "name": "stdout",
     "output_type": "stream",
     "text": [
      "Window size: width = 1000px, height = 1417px\n"
     ]
    }
   ],
   "source": [
    "options = webdriver.FirefoxOptions()\n",
    "#options.add_argument('--headless')\n",
    "#options.headless = True\n",
    "#options.add_argument(\"window-size=5120,2880\")\n",
    "driver = webdriver.Firefox(options=options)\n",
    "driver.get(URL)\n",
    "driver.set_window_size(1000, 2000)\n",
    "size = driver.get_window_size()\n",
    "print(\"Window size: width = {}px, height = {}px\".format(size[\"width\"], size[\"height\"]))\n",
    "driver.save_screenshot('screenshot.png')\n",
    "driver.close()"
   ]
  },
  {
   "cell_type": "code",
   "execution_count": 116,
   "metadata": {},
   "outputs": [
    {
     "name": "stdout",
     "output_type": "stream",
     "text": [
      "Window size: width = 1000px, height = 1417px\n"
     ]
    }
   ],
   "source": [
    "options = webdriver.FirefoxOptions()\n",
    "#options.add_argument('--headless')\n",
    "#options.headless = True\n",
    "#options.add_argument(\"window-size=5120,2880\")\n",
    "driver = webdriver.Firefox(options=options)\n",
    "driver.get(URL)\n",
    "driver.set_window_size(1000, 1500)\n",
    "size = driver.get_window_size()\n",
    "print(\"Window size: width = {}px, height = {}px\".format(size[\"width\"], size[\"height\"]))\n",
    "element = driver.find_element_by_xpath('/html/body/div[2]/div[2]')\n",
    "image_data = element.screenshot_as_png\n",
    "driver.close()"
   ]
  },
  {
   "cell_type": "code",
   "execution_count": 128,
   "metadata": {},
   "outputs": [],
   "source": [
    "with webdriver.Safari() as driver:\n",
    "    driver.get(URL)\n",
    "    driver.set_window_size(1000, 1500)\n",
    "    # driver.maximize_window()\n",
    "    element = driver.find_element_by_xpath('/html/body/div[2]/div[2]')\n",
    "    image_data = element.screenshot_as_png"
   ]
  },
  {
   "cell_type": "code",
   "execution_count": 129,
   "metadata": {},
   "outputs": [],
   "source": [
    "image_bytes = io.BytesIO(image_data)\n",
    "image = Image.open(image_bytes)\n",
    "text = pytesseract.image_to_string(image)"
   ]
  },
  {
   "cell_type": "code",
   "execution_count": 130,
   "metadata": {},
   "outputs": [],
   "source": [
    "image_gray = image.convert('L')\n",
    "# image_gray.show()"
   ]
  },
  {
   "cell_type": "code",
   "execution_count": 101,
   "metadata": {},
   "outputs": [],
   "source": [
    "threshold = 170\n",
    "image_bitonal_170 = image_gray.point(lambda pixel: pixel > threshold and 255)\n",
    "image_bitonal_170.show()"
   ]
  },
  {
   "cell_type": "code",
   "execution_count": 97,
   "metadata": {},
   "outputs": [],
   "source": [
    "r, g, b, _ = image.split()\n",
    "r.show()"
   ]
  },
  {
   "cell_type": "code",
   "execution_count": 90,
   "metadata": {},
   "outputs": [],
   "source": [
    "bitonal_r = r.convert('1', dither=Image.NONE)\n",
    "bitonal_r.show()"
   ]
  },
  {
   "cell_type": "code",
   "execution_count": 98,
   "metadata": {},
   "outputs": [
    {
     "data": {
      "text/plain": [
       "{}"
      ]
     },
     "execution_count": 98,
     "metadata": {},
     "output_type": "execute_result"
    }
   ],
   "source": [
    "r.info"
   ]
  },
  {
   "cell_type": "code",
   "execution_count": 131,
   "metadata": {},
   "outputs": [],
   "source": [
    "text = pytesseract.image_to_string(image_gray)"
   ]
  },
  {
   "cell_type": "code",
   "execution_count": 132,
   "metadata": {},
   "outputs": [
    {
     "name": "stdout",
     "output_type": "stream",
     "text": [
      "Building Room Reason Reopen Date\n",
      "\n",
      "Alumni Memorial 33 Symptomatic and Self-lsolating August 12, 2020\n",
      "Student Union 368 Symptomatic and Self-lsolating August 15, 2020\n",
      "Austin Peay B104, 109, 113 and 125 Symptomatic and Self Isolating August 12, 2020\n",
      "\n",
      "Active COVID-19 Cases\n",
      "\n",
      "Students 18\n",
      "Faculty 4\n",
      "Staff 4\n",
      "\n",
      "Cumulative since August 9, 2020: 4\n",
      "Cumulative June 8, 2020 thru August 8, 2020: 113\n",
      "\n",
      "Updated: 8/11/20 1336 tl\n"
     ]
    }
   ],
   "source": [
    "print(text.split('Learn more about what happens with a COVID-19 case is reported.')[1].split('View Acknowledgement')[0].strip())"
   ]
  },
  {
   "cell_type": "code",
   "execution_count": null,
   "metadata": {},
   "outputs": [],
   "source": []
  }
 ],
 "metadata": {
  "kernelspec": {
   "display_name": "Python 3",
   "language": "python",
   "name": "python3"
  },
  "language_info": {
   "codemirror_mode": {
    "name": "ipython",
    "version": 3
   },
   "file_extension": ".py",
   "mimetype": "text/x-python",
   "name": "python",
   "nbconvert_exporter": "python",
   "pygments_lexer": "ipython3",
   "version": "3.7.7"
  }
 },
 "nbformat": 4,
 "nbformat_minor": 4
}
